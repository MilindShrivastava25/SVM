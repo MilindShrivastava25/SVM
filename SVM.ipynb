{
 "cells": [
  {
   "cell_type": "code",
   "execution_count": 1,
   "id": "b4ac2fb5-0a4c-48bf-ac4b-db34a25ef4a1",
   "metadata": {},
   "outputs": [],
   "source": [
    "import pandas as pd\n",
    "import numpy as np\n",
    "import matplotlib.pyplot as plt\n",
    "import seaborn as sns\n",
    "from sklearn.model_selection import train_test_split, GridSearchCV\n",
    "from sklearn.svm import SVC\n",
    "from sklearn.metrics import accuracy_score, confusion_matrix, classification_report\n",
    "from sklearn.calibration import CalibratedClassifierCV\n",
    "import warnings\n",
    "warnings.filterwarnings('ignore')"
   ]
  },
  {
   "cell_type": "markdown",
   "id": "9cfc64fd-a233-46ac-94c2-0661269d3060",
   "metadata": {},
   "source": [
    "## Task 1: \n",
    "Exploratory Data Analysis (EDA)\n",
    "\n",
    "1.\tLoad the Mushroom dataset and perform fundamental data exploration.\n",
    "\n",
    "2.\tUtilize histograms, box plots, or density plots to understand feature distributions.\n",
    "\n",
    "3.\tInvestigate feature correlations to discern relationships within the data.\n"
   ]
  },
  {
   "cell_type": "code",
   "execution_count": 2,
   "id": "f2578768-8982-4002-b38b-e98ff88974d1",
   "metadata": {},
   "outputs": [
    {
     "data": {
      "text/html": [
       "<div>\n",
       "<style scoped>\n",
       "    .dataframe tbody tr th:only-of-type {\n",
       "        vertical-align: middle;\n",
       "    }\n",
       "\n",
       "    .dataframe tbody tr th {\n",
       "        vertical-align: top;\n",
       "    }\n",
       "\n",
       "    .dataframe thead th {\n",
       "        text-align: right;\n",
       "    }\n",
       "</style>\n",
       "<table border=\"1\" class=\"dataframe\">\n",
       "  <thead>\n",
       "    <tr style=\"text-align: right;\">\n",
       "      <th></th>\n",
       "      <th>Unnamed: 0</th>\n",
       "      <th>cap_shape</th>\n",
       "      <th>cap_surface</th>\n",
       "      <th>cap_color</th>\n",
       "      <th>bruises</th>\n",
       "      <th>odor</th>\n",
       "      <th>gill_attachment</th>\n",
       "      <th>gill_spacing</th>\n",
       "      <th>gill_size</th>\n",
       "      <th>gill_color</th>\n",
       "      <th>...</th>\n",
       "      <th>veil_type</th>\n",
       "      <th>veil_color</th>\n",
       "      <th>ring_number</th>\n",
       "      <th>ring_type</th>\n",
       "      <th>spore_print_color</th>\n",
       "      <th>population</th>\n",
       "      <th>habitat</th>\n",
       "      <th>class</th>\n",
       "      <th>stalk_height</th>\n",
       "      <th>cap_diameter</th>\n",
       "    </tr>\n",
       "  </thead>\n",
       "  <tbody>\n",
       "    <tr>\n",
       "      <th>0</th>\n",
       "      <td>1167</td>\n",
       "      <td>sunken</td>\n",
       "      <td>scaly</td>\n",
       "      <td>white</td>\n",
       "      <td>no</td>\n",
       "      <td>anise</td>\n",
       "      <td>descending</td>\n",
       "      <td>distant</td>\n",
       "      <td>broad</td>\n",
       "      <td>pink</td>\n",
       "      <td>...</td>\n",
       "      <td>partial</td>\n",
       "      <td>brown</td>\n",
       "      <td>two</td>\n",
       "      <td>sheathing</td>\n",
       "      <td>chocolate</td>\n",
       "      <td>clustered</td>\n",
       "      <td>waste</td>\n",
       "      <td>poisonous</td>\n",
       "      <td>14.276173</td>\n",
       "      <td>5.054983</td>\n",
       "    </tr>\n",
       "    <tr>\n",
       "      <th>1</th>\n",
       "      <td>1037</td>\n",
       "      <td>sunken</td>\n",
       "      <td>fibrous</td>\n",
       "      <td>red</td>\n",
       "      <td>no</td>\n",
       "      <td>anise</td>\n",
       "      <td>notched</td>\n",
       "      <td>crowded</td>\n",
       "      <td>narrow</td>\n",
       "      <td>chocolate</td>\n",
       "      <td>...</td>\n",
       "      <td>universal</td>\n",
       "      <td>brown</td>\n",
       "      <td>two</td>\n",
       "      <td>sheathing</td>\n",
       "      <td>brown</td>\n",
       "      <td>numerous</td>\n",
       "      <td>waste</td>\n",
       "      <td>edible</td>\n",
       "      <td>3.952715</td>\n",
       "      <td>19.068319</td>\n",
       "    </tr>\n",
       "    <tr>\n",
       "      <th>2</th>\n",
       "      <td>309</td>\n",
       "      <td>flat</td>\n",
       "      <td>grooves</td>\n",
       "      <td>purple</td>\n",
       "      <td>yes</td>\n",
       "      <td>foul</td>\n",
       "      <td>descending</td>\n",
       "      <td>crowded</td>\n",
       "      <td>broad</td>\n",
       "      <td>purple</td>\n",
       "      <td>...</td>\n",
       "      <td>universal</td>\n",
       "      <td>yellow</td>\n",
       "      <td>two</td>\n",
       "      <td>sheathing</td>\n",
       "      <td>purple</td>\n",
       "      <td>abundant</td>\n",
       "      <td>waste</td>\n",
       "      <td>poisonous</td>\n",
       "      <td>9.054265</td>\n",
       "      <td>7.205884</td>\n",
       "    </tr>\n",
       "    <tr>\n",
       "      <th>3</th>\n",
       "      <td>282</td>\n",
       "      <td>bell</td>\n",
       "      <td>scaly</td>\n",
       "      <td>pink</td>\n",
       "      <td>yes</td>\n",
       "      <td>fishy</td>\n",
       "      <td>notched</td>\n",
       "      <td>close</td>\n",
       "      <td>broad</td>\n",
       "      <td>orange</td>\n",
       "      <td>...</td>\n",
       "      <td>partial</td>\n",
       "      <td>yellow</td>\n",
       "      <td>two</td>\n",
       "      <td>cobwebby</td>\n",
       "      <td>green</td>\n",
       "      <td>clustered</td>\n",
       "      <td>grasses</td>\n",
       "      <td>poisonous</td>\n",
       "      <td>5.226499</td>\n",
       "      <td>20.932692</td>\n",
       "    </tr>\n",
       "    <tr>\n",
       "      <th>4</th>\n",
       "      <td>820</td>\n",
       "      <td>flat</td>\n",
       "      <td>smooth</td>\n",
       "      <td>yellow</td>\n",
       "      <td>yes</td>\n",
       "      <td>musty</td>\n",
       "      <td>free</td>\n",
       "      <td>crowded</td>\n",
       "      <td>narrow</td>\n",
       "      <td>orange</td>\n",
       "      <td>...</td>\n",
       "      <td>universal</td>\n",
       "      <td>white</td>\n",
       "      <td>none</td>\n",
       "      <td>none</td>\n",
       "      <td>yellow</td>\n",
       "      <td>clustered</td>\n",
       "      <td>urban</td>\n",
       "      <td>poisonous</td>\n",
       "      <td>14.037532</td>\n",
       "      <td>12.545245</td>\n",
       "    </tr>\n",
       "  </tbody>\n",
       "</table>\n",
       "<p>5 rows × 26 columns</p>\n",
       "</div>"
      ],
      "text/plain": [
       "   Unnamed: 0 cap_shape cap_surface cap_color bruises   odor gill_attachment  \\\n",
       "0        1167    sunken       scaly     white      no  anise      descending   \n",
       "1        1037    sunken     fibrous       red      no  anise         notched   \n",
       "2         309      flat     grooves    purple     yes   foul      descending   \n",
       "3         282      bell       scaly      pink     yes  fishy         notched   \n",
       "4         820      flat      smooth    yellow     yes  musty            free   \n",
       "\n",
       "  gill_spacing gill_size gill_color  ...  veil_type veil_color ring_number  \\\n",
       "0      distant     broad       pink  ...    partial      brown         two   \n",
       "1      crowded    narrow  chocolate  ...  universal      brown         two   \n",
       "2      crowded     broad     purple  ...  universal     yellow         two   \n",
       "3        close     broad     orange  ...    partial     yellow         two   \n",
       "4      crowded    narrow     orange  ...  universal      white        none   \n",
       "\n",
       "   ring_type spore_print_color population  habitat      class stalk_height  \\\n",
       "0  sheathing         chocolate  clustered    waste  poisonous    14.276173   \n",
       "1  sheathing             brown   numerous    waste     edible     3.952715   \n",
       "2  sheathing            purple   abundant    waste  poisonous     9.054265   \n",
       "3   cobwebby             green  clustered  grasses  poisonous     5.226499   \n",
       "4       none            yellow  clustered    urban  poisonous    14.037532   \n",
       "\n",
       "  cap_diameter  \n",
       "0     5.054983  \n",
       "1    19.068319  \n",
       "2     7.205884  \n",
       "3    20.932692  \n",
       "4    12.545245  \n",
       "\n",
       "[5 rows x 26 columns]"
      ]
     },
     "execution_count": 2,
     "metadata": {},
     "output_type": "execute_result"
    }
   ],
   "source": [
    "df = pd.read_csv('mushroom.csv')\n",
    "df.head()"
   ]
  },
  {
   "cell_type": "code",
   "execution_count": 3,
   "id": "18a48451-2a79-46d8-87ef-8c52609be776",
   "metadata": {},
   "outputs": [
    {
     "name": "stdout",
     "output_type": "stream",
     "text": [
      "<class 'pandas.core.frame.DataFrame'>\n",
      "RangeIndex: 2000 entries, 0 to 1999\n",
      "Data columns (total 26 columns):\n",
      " #   Column                    Non-Null Count  Dtype  \n",
      "---  ------                    --------------  -----  \n",
      " 0   Unnamed: 0                2000 non-null   int64  \n",
      " 1   cap_shape                 2000 non-null   object \n",
      " 2   cap_surface               2000 non-null   object \n",
      " 3   cap_color                 2000 non-null   object \n",
      " 4   bruises                   2000 non-null   object \n",
      " 5   odor                      2000 non-null   object \n",
      " 6   gill_attachment           2000 non-null   object \n",
      " 7   gill_spacing              2000 non-null   object \n",
      " 8   gill_size                 2000 non-null   object \n",
      " 9   gill_color                2000 non-null   object \n",
      " 10  stalk_shape               2000 non-null   object \n",
      " 11  stalk_root                2000 non-null   object \n",
      " 12  stalk_surface_above_ring  2000 non-null   object \n",
      " 13  stalk_surface_below_ring  2000 non-null   object \n",
      " 14  stalk_color_above_ring    2000 non-null   object \n",
      " 15  stalk_color_below_ring    2000 non-null   object \n",
      " 16  veil_type                 2000 non-null   object \n",
      " 17  veil_color                2000 non-null   object \n",
      " 18  ring_number               2000 non-null   object \n",
      " 19  ring_type                 2000 non-null   object \n",
      " 20  spore_print_color         2000 non-null   object \n",
      " 21  population                2000 non-null   object \n",
      " 22  habitat                   2000 non-null   object \n",
      " 23  class                     2000 non-null   object \n",
      " 24  stalk_height              2000 non-null   float64\n",
      " 25  cap_diameter              2000 non-null   float64\n",
      "dtypes: float64(2), int64(1), object(23)\n",
      "memory usage: 406.4+ KB\n"
     ]
    }
   ],
   "source": [
    "df.info()"
   ]
  },
  {
   "cell_type": "code",
   "execution_count": 4,
   "id": "f61b5c66-45a0-43da-ad90-0e2470a43d72",
   "metadata": {},
   "outputs": [
    {
     "data": {
      "text/plain": [
       "True"
      ]
     },
     "execution_count": 4,
     "metadata": {},
     "output_type": "execute_result"
    }
   ],
   "source": [
    "df.duplicated().any()"
   ]
  },
  {
   "cell_type": "code",
   "execution_count": 5,
   "id": "b5b13fdf-aa1e-4405-b476-6ae101ff7fee",
   "metadata": {},
   "outputs": [
    {
     "data": {
      "text/plain": [
       "False"
      ]
     },
     "execution_count": 5,
     "metadata": {},
     "output_type": "execute_result"
    }
   ],
   "source": [
    "df.drop_duplicates(inplace = True)\n",
    "df.duplicated().any()"
   ]
  },
  {
   "cell_type": "code",
   "execution_count": 6,
   "id": "55c4d4a2-3948-4f09-9ffe-94e80e6e9578",
   "metadata": {},
   "outputs": [
    {
     "data": {
      "text/html": [
       "<div>\n",
       "<style scoped>\n",
       "    .dataframe tbody tr th:only-of-type {\n",
       "        vertical-align: middle;\n",
       "    }\n",
       "\n",
       "    .dataframe tbody tr th {\n",
       "        vertical-align: top;\n",
       "    }\n",
       "\n",
       "    .dataframe thead th {\n",
       "        text-align: right;\n",
       "    }\n",
       "</style>\n",
       "<table border=\"1\" class=\"dataframe\">\n",
       "  <thead>\n",
       "    <tr style=\"text-align: right;\">\n",
       "      <th></th>\n",
       "      <th>Unnamed: 0</th>\n",
       "      <th>stalk_height</th>\n",
       "      <th>cap_diameter</th>\n",
       "    </tr>\n",
       "  </thead>\n",
       "  <tbody>\n",
       "    <tr>\n",
       "      <th>count</th>\n",
       "      <td>976.000000</td>\n",
       "      <td>976.000000</td>\n",
       "      <td>976.000000</td>\n",
       "    </tr>\n",
       "    <tr>\n",
       "      <th>mean</th>\n",
       "      <td>633.275615</td>\n",
       "      <td>8.524684</td>\n",
       "      <td>12.598566</td>\n",
       "    </tr>\n",
       "    <tr>\n",
       "      <th>std</th>\n",
       "      <td>372.262936</td>\n",
       "      <td>3.703043</td>\n",
       "      <td>6.987077</td>\n",
       "    </tr>\n",
       "    <tr>\n",
       "      <th>min</th>\n",
       "      <td>0.000000</td>\n",
       "      <td>2.000000</td>\n",
       "      <td>1.000000</td>\n",
       "    </tr>\n",
       "    <tr>\n",
       "      <th>25%</th>\n",
       "      <td>306.750000</td>\n",
       "      <td>5.326820</td>\n",
       "      <td>6.141161</td>\n",
       "    </tr>\n",
       "    <tr>\n",
       "      <th>50%</th>\n",
       "      <td>622.500000</td>\n",
       "      <td>8.367245</td>\n",
       "      <td>12.626094</td>\n",
       "    </tr>\n",
       "    <tr>\n",
       "      <th>75%</th>\n",
       "      <td>959.250000</td>\n",
       "      <td>11.758624</td>\n",
       "      <td>18.559780</td>\n",
       "    </tr>\n",
       "    <tr>\n",
       "      <th>max</th>\n",
       "      <td>1279.000000</td>\n",
       "      <td>15.095066</td>\n",
       "      <td>25.000054</td>\n",
       "    </tr>\n",
       "  </tbody>\n",
       "</table>\n",
       "</div>"
      ],
      "text/plain": [
       "        Unnamed: 0  stalk_height  cap_diameter\n",
       "count   976.000000    976.000000    976.000000\n",
       "mean    633.275615      8.524684     12.598566\n",
       "std     372.262936      3.703043      6.987077\n",
       "min       0.000000      2.000000      1.000000\n",
       "25%     306.750000      5.326820      6.141161\n",
       "50%     622.500000      8.367245     12.626094\n",
       "75%     959.250000     11.758624     18.559780\n",
       "max    1279.000000     15.095066     25.000054"
      ]
     },
     "execution_count": 6,
     "metadata": {},
     "output_type": "execute_result"
    }
   ],
   "source": [
    "df.describe()"
   ]
  },
  {
   "cell_type": "code",
   "execution_count": 11,
   "id": "7c7c138d-6aba-4699-8a09-edeacf9aaf1a",
   "metadata": {},
   "outputs": [
    {
     "data": {
      "image/png": "[encoded data removed]",
      "text/plain": [
       "<Figure size 640x480 with 1 Axes>"
      ]
     },
     "metadata": {},
     "output_type": "display_data"
    }
   ],
   "source": [
    "plt.hist(feature, bins=2)\n",
    "plt.show()"
   ]
  },
  {
   "cell_type": "code",
   "execution_count": 12,
   "id": "f0662be6-31cb-48e0-b2c1-e6e873390b0c",
   "metadata": {},
   "outputs": [
    {
     "data": {
      "image/png": "[encoded data removed]",
      "text/plain": [
       "<Figure size 640x480 with 1 Axes>"
      ]
     },
     "metadata": {},
     "output_type": "display_data"
    }
   ],
   "source": [
    "plt.boxplot(feature)\n",
    "plt.show()"
   ]
  },
  {
   "cell_type": "code",
   "execution_count": 13,
   "id": "5853fdff-32f1-42e0-852a-191bd011e98f",
   "metadata": {},
   "outputs": [
    {
     "data": {
      "text/plain": [
       "<Axes: >"
      ]
     },
     "execution_count": 13,
     "metadata": {},
     "output_type": "execute_result"
    },
    {
     "data": {
      "image/png": "[encoded data removed]",
      "text/plain": [
       "<Figure size 640x480 with 2 Axes>"
      ]
     },
     "metadata": {},
     "output_type": "display_data"
    }
   ],
   "source": [
    "df_encoded.drop('class',axis=1)\n",
    "sns.heatmap(df_encoded,cmap='coolwarm')"
   ]
  },
  {
   "cell_type": "markdown",
   "id": "9c2d5857-0ccc-441e-9676-76a97550cd01",
   "metadata": {},
   "source": [
    "## Task 2:\n",
    "Data Preprocessing\n",
    "\n",
    "1.\tEncode categorical variables if necessary.\n",
    "\n",
    "2.\tSplit the dataset into training and testing sets.\n"
   ]
  },
  {
   "cell_type": "code",
   "execution_count": 7,
   "id": "a0d15cd1-84ba-4dca-b616-8a7488263561",
   "metadata": {},
   "outputs": [
    {
     "data": {
      "text/html": [
       "<div>\n",
       "<style scoped>\n",
       "    .dataframe tbody tr th:only-of-type {\n",
       "        vertical-align: middle;\n",
       "    }\n",
       "\n",
       "    .dataframe tbody tr th {\n",
       "        vertical-align: top;\n",
       "    }\n",
       "\n",
       "    .dataframe thead th {\n",
       "        text-align: right;\n",
       "    }\n",
       "</style>\n",
       "<table border=\"1\" class=\"dataframe\">\n",
       "  <thead>\n",
       "    <tr style=\"text-align: right;\">\n",
       "      <th></th>\n",
       "      <th>Unnamed: 0</th>\n",
       "      <th>cap_shape</th>\n",
       "      <th>cap_surface</th>\n",
       "      <th>cap_color</th>\n",
       "      <th>bruises</th>\n",
       "      <th>odor</th>\n",
       "      <th>gill_attachment</th>\n",
       "      <th>gill_spacing</th>\n",
       "      <th>gill_size</th>\n",
       "      <th>gill_color</th>\n",
       "      <th>...</th>\n",
       "      <th>veil_type</th>\n",
       "      <th>veil_color</th>\n",
       "      <th>ring_number</th>\n",
       "      <th>ring_type</th>\n",
       "      <th>spore_print_color</th>\n",
       "      <th>population</th>\n",
       "      <th>habitat</th>\n",
       "      <th>class</th>\n",
       "      <th>stalk_height</th>\n",
       "      <th>cap_diameter</th>\n",
       "    </tr>\n",
       "  </thead>\n",
       "  <tbody>\n",
       "    <tr>\n",
       "      <th>0</th>\n",
       "      <td>889</td>\n",
       "      <td>4</td>\n",
       "      <td>2</td>\n",
       "      <td>7</td>\n",
       "      <td>0</td>\n",
       "      <td>1</td>\n",
       "      <td>1</td>\n",
       "      <td>2</td>\n",
       "      <td>0</td>\n",
       "      <td>7</td>\n",
       "      <td>...</td>\n",
       "      <td>0</td>\n",
       "      <td>0</td>\n",
       "      <td>2</td>\n",
       "      <td>6</td>\n",
       "      <td>3</td>\n",
       "      <td>1</td>\n",
       "      <td>5</td>\n",
       "      <td>1</td>\n",
       "      <td>916</td>\n",
       "      <td>190</td>\n",
       "    </tr>\n",
       "    <tr>\n",
       "      <th>1</th>\n",
       "      <td>786</td>\n",
       "      <td>4</td>\n",
       "      <td>0</td>\n",
       "      <td>6</td>\n",
       "      <td>0</td>\n",
       "      <td>1</td>\n",
       "      <td>3</td>\n",
       "      <td>1</td>\n",
       "      <td>1</td>\n",
       "      <td>3</td>\n",
       "      <td>...</td>\n",
       "      <td>1</td>\n",
       "      <td>0</td>\n",
       "      <td>2</td>\n",
       "      <td>6</td>\n",
       "      <td>1</td>\n",
       "      <td>2</td>\n",
       "      <td>5</td>\n",
       "      <td>0</td>\n",
       "      <td>128</td>\n",
       "      <td>750</td>\n",
       "    </tr>\n",
       "    <tr>\n",
       "      <th>2</th>\n",
       "      <td>246</td>\n",
       "      <td>3</td>\n",
       "      <td>1</td>\n",
       "      <td>5</td>\n",
       "      <td>1</td>\n",
       "      <td>4</td>\n",
       "      <td>1</td>\n",
       "      <td>1</td>\n",
       "      <td>0</td>\n",
       "      <td>8</td>\n",
       "      <td>...</td>\n",
       "      <td>1</td>\n",
       "      <td>3</td>\n",
       "      <td>2</td>\n",
       "      <td>6</td>\n",
       "      <td>6</td>\n",
       "      <td>0</td>\n",
       "      <td>5</td>\n",
       "      <td>1</td>\n",
       "      <td>537</td>\n",
       "      <td>281</td>\n",
       "    </tr>\n",
       "    <tr>\n",
       "      <th>3</th>\n",
       "      <td>221</td>\n",
       "      <td>0</td>\n",
       "      <td>2</td>\n",
       "      <td>4</td>\n",
       "      <td>1</td>\n",
       "      <td>3</td>\n",
       "      <td>3</td>\n",
       "      <td>0</td>\n",
       "      <td>0</td>\n",
       "      <td>6</td>\n",
       "      <td>...</td>\n",
       "      <td>0</td>\n",
       "      <td>3</td>\n",
       "      <td>2</td>\n",
       "      <td>0</td>\n",
       "      <td>4</td>\n",
       "      <td>1</td>\n",
       "      <td>0</td>\n",
       "      <td>1</td>\n",
       "      <td>234</td>\n",
       "      <td>829</td>\n",
       "    </tr>\n",
       "    <tr>\n",
       "      <th>4</th>\n",
       "      <td>630</td>\n",
       "      <td>3</td>\n",
       "      <td>3</td>\n",
       "      <td>8</td>\n",
       "      <td>1</td>\n",
       "      <td>5</td>\n",
       "      <td>2</td>\n",
       "      <td>1</td>\n",
       "      <td>1</td>\n",
       "      <td>6</td>\n",
       "      <td>...</td>\n",
       "      <td>1</td>\n",
       "      <td>2</td>\n",
       "      <td>0</td>\n",
       "      <td>4</td>\n",
       "      <td>8</td>\n",
       "      <td>1</td>\n",
       "      <td>4</td>\n",
       "      <td>1</td>\n",
       "      <td>895</td>\n",
       "      <td>484</td>\n",
       "    </tr>\n",
       "  </tbody>\n",
       "</table>\n",
       "<p>5 rows × 26 columns</p>\n",
       "</div>"
      ],
      "text/plain": [
       "   Unnamed: 0  cap_shape  cap_surface  cap_color  bruises  odor  \\\n",
       "0         889          4            2          7        0     1   \n",
       "1         786          4            0          6        0     1   \n",
       "2         246          3            1          5        1     4   \n",
       "3         221          0            2          4        1     3   \n",
       "4         630          3            3          8        1     5   \n",
       "\n",
       "   gill_attachment  gill_spacing  gill_size  gill_color  ...  veil_type  \\\n",
       "0                1             2          0           7  ...          0   \n",
       "1                3             1          1           3  ...          1   \n",
       "2                1             1          0           8  ...          1   \n",
       "3                3             0          0           6  ...          0   \n",
       "4                2             1          1           6  ...          1   \n",
       "\n",
       "   veil_color  ring_number  ring_type  spore_print_color  population  habitat  \\\n",
       "0           0            2          6                  3           1        5   \n",
       "1           0            2          6                  1           2        5   \n",
       "2           3            2          6                  6           0        5   \n",
       "3           3            2          0                  4           1        0   \n",
       "4           2            0          4                  8           1        4   \n",
       "\n",
       "   class  stalk_height  cap_diameter  \n",
       "0      1           916           190  \n",
       "1      0           128           750  \n",
       "2      1           537           281  \n",
       "3      1           234           829  \n",
       "4      1           895           484  \n",
       "\n",
       "[5 rows x 26 columns]"
      ]
     },
     "execution_count": 7,
     "metadata": {},
     "output_type": "execute_result"
    }
   ],
   "source": [
    "from sklearn.preprocessing import LabelEncoder\n",
    "df_encoded = df.copy()\n",
    "lab_enc = LabelEncoder()\n",
    "for col in df_encoded.columns:\n",
    "  df_encoded[col] = lab_enc.fit_transform(df_encoded[col])\n",
    "df_encoded.head()"
   ]
  },
  {
   "cell_type": "code",
   "execution_count": 8,
   "id": "3c51172b-f905-4229-8cdd-84fb0d7f21a0",
   "metadata": {},
   "outputs": [],
   "source": [
    "target = df_encoded['class']\n",
    "feature = df_encoded.drop('class',axis = 1)"
   ]
  },
  {
   "cell_type": "code",
   "execution_count": 9,
   "id": "99e63cc5-56c6-49cd-ba80-3b3e848825d8",
   "metadata": {},
   "outputs": [],
   "source": [
    "x_train,x_test,y_train,y_test = train_test_split(feature,target,train_size=0.75,random_state=100)"
   ]
  },
  {
   "cell_type": "code",
   "execution_count": 10,
   "id": "a8b96387-2423-47db-8baf-82d5e24bf926",
   "metadata": {},
   "outputs": [
    {
     "name": "stdout",
     "output_type": "stream",
     "text": [
      "(732, 25)\n",
      "(244, 25)\n",
      "(732,)\n",
      "(244,)\n"
     ]
    }
   ],
   "source": [
    "print(x_train.shape)\n",
    "print(x_test.shape)\n",
    "print(y_train.shape)\n",
    "print(y_test.shape)"
   ]
  },
  {
   "cell_type": "markdown",
   "id": "ea0abb3e-95e7-43ac-a36d-d28b6773ff7b",
   "metadata": {},
   "source": [
    "### Task 3: \n",
    "Data Visualization\n",
    "\n",
    "1.\tEmploy scatter plots, pair plots, or relevant visualizations to comprehend feature distributions and relationships.\n",
    "\n",
    "2.\tVisualize class distributions to gauge dataset balance or imbalance.\n"
   ]
  },
  {
   "cell_type": "code",
   "execution_count": null,
   "id": "0d55ff7d-9699-42d0-9861-dccc2b565300",
   "metadata": {},
   "outputs": [
    {
     "data": {
      "text/plain": [
       "<seaborn.axisgrid.PairGrid at 0x20e3d9fc810>"
      ]
     },
     "execution_count": 29,
     "metadata": {},
     "output_type": "execute_result"
    }
   ],
   "source": [
    "sns.pairplot(data = df_encoded)"
   ]
  },
  {
   "cell_type": "code",
   "execution_count": 14,
   "id": "f6d701a7-c9c4-4048-8d1a-032ffaf149cb",
   "metadata": {},
   "outputs": [
    {
     "data": {
      "image/png": "[encoded data removed]",
      "text/plain": [
       "<Figure size 640x480 with 1 Axes>"
      ]
     },
     "metadata": {},
     "output_type": "display_data"
    }
   ],
   "source": [
    "plt.hist(df['class'],bins = 5)\n",
    "plt.show()"
   ]
  },
  {
   "cell_type": "markdown",
   "id": "55d67b9a-86ff-4599-b2b9-7a10f28fb7e0",
   "metadata": {},
   "source": [
    "## Task 4:\n",
    "SVM Implementation\n",
    "\n",
    "1.\tImplement a basic SVM classifier using Python libraries like scikit-learn.\n",
    "\n",
    "2.\tTrain the SVM model on the training data.\n",
    "\n",
    "3.\tEvaluate model performance on the testing data using appropriate metrics (e.g., accuracy, precision, recall, F1-score).\n"
   ]
  },
  {
   "cell_type": "code",
   "execution_count": 15,
   "id": "b418821c-d22d-4e38-922e-f4b5e1ed259e",
   "metadata": {},
   "outputs": [],
   "source": [
    "svc = SVC(C=1,kernel='linear',gamma=0.1)"
   ]
  },
  {
   "cell_type": "code",
   "execution_count": 16,
   "id": "49ed5a67-3b36-4f71-995a-6407d73a77d9",
   "metadata": {},
   "outputs": [
    {
     "data": {
      "text/html": [
       "<style>#sk-container-id-1 {color: black;background-color: white;}#sk-container-id-1 pre{padding: 0;}#sk-container-id-1 div.sk-toggleable {background-color: white;}#sk-container-id-1 label.sk-toggleable__label {cursor: pointer;display: block;width: 100%;margin-bottom: 0;padding: 0.3em;box-sizing: border-box;text-align: center;}#sk-container-id-1 label.sk-toggleable__label-arrow:before {content: \"▸\";float: left;margin-right: 0.25em;color: #696969;}#sk-container-id-1 label.sk-toggleable__label-arrow:hover:before {color: black;}#sk-container-id-1 div.sk-estimator:hover label.sk-toggleable__label-arrow:before {color: black;}#sk-container-id-1 div.sk-toggleable__content {max-height: 0;max-width: 0;overflow: hidden;text-align: left;background-color: #f0f8ff;}#sk-container-id-1 div.sk-toggleable__content pre {margin: 0.2em;color: black;border-radius: 0.25em;background-color: #f0f8ff;}#sk-container-id-1 input.sk-toggleable__control:checked~div.sk-toggleable__content {max-height: 200px;max-width: 100%;overflow: auto;}#sk-container-id-1 input.sk-toggleable__control:checked~label.sk-toggleable__label-arrow:before {content: \"▾\";}#sk-container-id-1 div.sk-estimator input.sk-toggleable__control:checked~label.sk-toggleable__label {background-color: #d4ebff;}#sk-container-id-1 div.sk-label input.sk-toggleable__control:checked~label.sk-toggleable__label {background-color: #d4ebff;}#sk-container-id-1 input.sk-hidden--visually {border: 0;clip: rect(1px 1px 1px 1px);clip: rect(1px, 1px, 1px, 1px);height: 1px;margin: -1px;overflow: hidden;padding: 0;position: absolute;width: 1px;}#sk-container-id-1 div.sk-estimator {font-family: monospace;background-color: #f0f8ff;border: 1px dotted black;border-radius: 0.25em;box-sizing: border-box;margin-bottom: 0.5em;}#sk-container-id-1 div.sk-estimator:hover {background-color: #d4ebff;}#sk-container-id-1 div.sk-parallel-item::after {content: \"\";width: 100%;border-bottom: 1px solid gray;flex-grow: 1;}#sk-container-id-1 div.sk-label:hover label.sk-toggleable__label {background-color: #d4ebff;}#sk-container-id-1 div.sk-serial::before {content: \"\";position: absolute;border-left: 1px solid gray;box-sizing: border-box;top: 0;bottom: 0;left: 50%;z-index: 0;}#sk-container-id-1 div.sk-serial {display: flex;flex-direction: column;align-items: center;background-color: white;padding-right: 0.2em;padding-left: 0.2em;position: relative;}#sk-container-id-1 div.sk-item {position: relative;z-index: 1;}#sk-container-id-1 div.sk-parallel {display: flex;align-items: stretch;justify-content: center;background-color: white;position: relative;}#sk-container-id-1 div.sk-item::before, #sk-container-id-1 div.sk-parallel-item::before {content: \"\";position: absolute;border-left: 1px solid gray;box-sizing: border-box;top: 0;bottom: 0;left: 50%;z-index: -1;}#sk-container-id-1 div.sk-parallel-item {display: flex;flex-direction: column;z-index: 1;position: relative;background-color: white;}#sk-container-id-1 div.sk-parallel-item:first-child::after {align-self: flex-end;width: 50%;}#sk-container-id-1 div.sk-parallel-item:last-child::after {align-self: flex-start;width: 50%;}#sk-container-id-1 div.sk-parallel-item:only-child::after {width: 0;}#sk-container-id-1 div.sk-dashed-wrapped {border: 1px dashed gray;margin: 0 0.4em 0.5em 0.4em;box-sizing: border-box;padding-bottom: 0.4em;background-color: white;}#sk-container-id-1 div.sk-label label {font-family: monospace;font-weight: bold;display: inline-block;line-height: 1.2em;}#sk-container-id-1 div.sk-label-container {text-align: center;}#sk-container-id-1 div.sk-container {/* jupyter's `normalize.less` sets `[hidden] { display: none; }` but bootstrap.min.css set `[hidden] { display: none !important; }` so we also need the `!important` here to be able to override the default hidden behavior on the sphinx rendered scikit-learn.org. See: https://github.com/scikit-learn/scikit-learn/issues/21755 */display: inline-block !important;position: relative;}#sk-container-id-1 div.sk-text-repr-fallback {display: none;}</style><div id=\"sk-container-id-1\" class=\"sk-top-container\"><div class=\"sk-text-repr-fallback\"><pre>SVC(C=1, gamma=0.1, kernel=&#x27;linear&#x27;)</pre><b>In a Jupyter environment, please rerun this cell to show the HTML representation or trust the notebook. <br />On GitHub, the HTML representation is unable to render, please try loading this page with nbviewer.org.</b></div><div class=\"sk-container\" hidden><div class=\"sk-item\"><div class=\"sk-estimator sk-toggleable\"><input class=\"sk-toggleable__control sk-hidden--visually\" id=\"sk-estimator-id-1\" type=\"checkbox\" checked><label for=\"sk-estimator-id-1\" class=\"sk-toggleable__label sk-toggleable__label-arrow\">SVC</label><div class=\"sk-toggleable__content\"><pre>SVC(C=1, gamma=0.1, kernel=&#x27;linear&#x27;)</pre></div></div></div></div></div>"
      ],
      "text/plain": [
       "SVC(C=1, gamma=0.1, kernel='linear')"
      ]
     },
     "execution_count": 16,
     "metadata": {},
     "output_type": "execute_result"
    }
   ],
   "source": [
    "svc.fit(x_train,y_train)"
   ]
  },
  {
   "cell_type": "code",
   "execution_count": 17,
   "id": "1b08300a-a99c-421e-bf8c-e1594e851306",
   "metadata": {},
   "outputs": [],
   "source": [
    "y_pred = svc.predict(x_test)"
   ]
  },
  {
   "cell_type": "code",
   "execution_count": 18,
   "id": "311562c5-48df-414d-a48a-972e3d1447c5",
   "metadata": {},
   "outputs": [
    {
     "data": {
      "text/plain": [
       "0.5901639344262295"
      ]
     },
     "execution_count": 18,
     "metadata": {},
     "output_type": "execute_result"
    }
   ],
   "source": [
    "accuracy_score(y_test,y_pred)"
   ]
  },
  {
   "cell_type": "code",
   "execution_count": 19,
   "id": "b996f8de-5a87-4670-89af-b705d345be5f",
   "metadata": {},
   "outputs": [
    {
     "name": "stdout",
     "output_type": "stream",
     "text": [
      "              precision    recall  f1-score   support\n",
      "\n",
      "           0       0.00      0.00      0.00       100\n",
      "           1       0.59      1.00      0.74       144\n",
      "\n",
      "    accuracy                           0.59       244\n",
      "   macro avg       0.30      0.50      0.37       244\n",
      "weighted avg       0.35      0.59      0.44       244\n",
      "\n"
     ]
    },
    {
     "data": {
      "image/png": "[encoded data removed]",
      "text/plain": [
       "<Figure size 640x480 with 2 Axes>"
      ]
     },
     "metadata": {},
     "output_type": "display_data"
    }
   ],
   "source": [
    "sns.heatmap(confusion_matrix(y_test,y_pred),annot=True)\n",
    "print(classification_report(y_test,y_pred))"
   ]
  },
  {
   "cell_type": "markdown",
   "id": "3cfd7648-bf2f-463a-a7f9-e133cfd3da4b",
   "metadata": {},
   "source": [
    "## Task 5:\n",
    "Visualization of SVM Results\n",
    "\n",
    "1.\tVisualize classification results on the testing data.\n"
   ]
  },
  {
   "cell_type": "code",
   "execution_count": 20,
   "id": "d06e6cb8-2928-49cd-a14d-546141f2a7ee",
   "metadata": {},
   "outputs": [
    {
     "data": {
      "text/plain": [
       "[<matplotlib.lines.Line2D at 0x20e3d967810>]"
      ]
     },
     "execution_count": 20,
     "metadata": {},
     "output_type": "execute_result"
    },
    {
     "data": {
      "image/png": "[encoded data removed]",
      "text/plain": [
       "<Figure size 640x480 with 1 Axes>"
      ]
     },
     "metadata": {},
     "output_type": "display_data"
    }
   ],
   "source": [
    "plt.plot(y_test,y_pred)"
   ]
  },
  {
   "cell_type": "markdown",
   "id": "ef8e27d0-0f83-42f6-8a56-335704165e2e",
   "metadata": {},
   "source": [
    "## Task 6: \n",
    "Parameter Tuning and Optimization\n",
    "\n",
    "1.\tExperiment with different SVM hyperparameters (e.g., kernel type, regularization parameter) to optimize performance.\n"
   ]
  },
  {
   "cell_type": "code",
   "execution_count": 21,
   "id": "2d705f0e-7b0a-4c09-8fe9-f695e235fb57",
   "metadata": {},
   "outputs": [
    {
     "data": {
      "text/plain": [
       "0.5901639344262295"
      ]
     },
     "execution_count": 21,
     "metadata": {},
     "output_type": "execute_result"
    }
   ],
   "source": [
    "svc_linear = SVC(C=5,kernel='linear',gamma=0.1)\n",
    "svc_linear.fit(x_train,y_train)\n",
    "y_pred = svc_linear.predict(x_test)\n",
    "accuracy_score(y_test,y_pred)"
   ]
  },
  {
   "cell_type": "code",
   "execution_count": 22,
   "id": "c29faa36-3cf1-4666-bc73-c0cf788e37ab",
   "metadata": {},
   "outputs": [
    {
     "data": {
      "text/plain": [
       "0.5901639344262295"
      ]
     },
     "execution_count": 22,
     "metadata": {},
     "output_type": "execute_result"
    }
   ],
   "source": [
    "svc_linear = SVC(C=10,kernel='linear')\n",
    "svc_linear.fit(x_train,y_train)\n",
    "y_pred = svc_linear.predict(x_test)\n",
    "accuracy_score(y_test,y_pred)"
   ]
  },
  {
   "cell_type": "code",
   "execution_count": 23,
   "id": "c1daa9df-dc4e-497f-ac23-01a51057591d",
   "metadata": {},
   "outputs": [
    {
     "data": {
      "text/plain": [
       "0.5901639344262295"
      ]
     },
     "execution_count": 23,
     "metadata": {},
     "output_type": "execute_result"
    }
   ],
   "source": [
    "svc_linear = SVC(C=15,kernel='linear')\n",
    "svc_linear.fit(x_train,y_train)\n",
    "y_pred = svc_linear.predict(x_test)\n",
    "accuracy_score(y_test,y_pred)"
   ]
  },
  {
   "cell_type": "code",
   "execution_count": 24,
   "id": "fd575938-6466-47cf-ac3b-3400bd0d4d7b",
   "metadata": {},
   "outputs": [
    {
     "data": {
      "text/plain": [
       "0.5901639344262295"
      ]
     },
     "execution_count": 24,
     "metadata": {},
     "output_type": "execute_result"
    }
   ],
   "source": [
    "svc_linear = SVC(C=20,kernel='linear')\n",
    "svc_linear.fit(x_train,y_train)\n",
    "y_pred = svc_linear.predict(x_test)\n",
    "accuracy_score(y_test,y_pred)"
   ]
  },
  {
   "cell_type": "markdown",
   "id": "7af6d818-4c54-49ca-a834-97c5aa1c3d2a",
   "metadata": {},
   "source": [
    "### \n",
    "The accuracy of the model remains the exact same even if we change the hyperarameter(C)"
   ]
  },
  {
   "cell_type": "markdown",
   "id": "5de3217a-ab98-4f82-b17b-68633f7826fa",
   "metadata": {},
   "source": [
    "## Task 7: \n",
    "Comparison and Analysis\n",
    "\n",
    "1.\tCompare SVM performance with various kernels (e.g., linear, polynomial, radial basis function).\n",
    "\n",
    "2.\tAnalyze SVM strengths and weaknesses for the Mushroom dataset based on EDA and visualization results.\n",
    "\n",
    "3.\tDiscuss practical implications of SVM in real-world classification tasks.\n"
   ]
  },
  {
   "cell_type": "code",
   "execution_count": 25,
   "id": "5f692535-bf29-45fb-8b70-23564db1d1a1",
   "metadata": {},
   "outputs": [
    {
     "data": {
      "text/plain": [
       "0.5901639344262295"
      ]
     },
     "execution_count": 25,
     "metadata": {},
     "output_type": "execute_result"
    }
   ],
   "source": [
    "svc_linear = SVC(C=1,kernel='linear',gamma=0.1)\n",
    "svc_linear.fit(x_train,y_train)\n",
    "y_pred = svc_linear.predict(x_test)\n",
    "accuracy_score(y_test,y_pred)"
   ]
  },
  {
   "cell_type": "code",
   "execution_count": null,
   "id": "a4d960e9-fbd4-4737-8fed-5439fbc2f414",
   "metadata": {},
   "outputs": [],
   "source": [
    "svc_poly = SVC(C=1,kernel='poly',gamma=0.1)\n",
    "svc_poly.fit(x_train,y_train)\n",
    "y_pred = svc_linear.predict(x_test)\n",
    "accuracy_score(y_test,y_pred)"
   ]
  },
  {
   "cell_type": "code",
   "execution_count": 26,
   "id": "e9da26be-50df-41fa-9ef0-eaba6f20cce0",
   "metadata": {},
   "outputs": [
    {
     "data": {
      "text/plain": [
       "0.5901639344262295"
      ]
     },
     "execution_count": 26,
     "metadata": {},
     "output_type": "execute_result"
    }
   ],
   "source": [
    "svc_rbf = SVC(C=1,kernel='rbf',gamma=0.1)\n",
    "svc_rbf.fit(x_train,y_train)\n",
    "y_pred = svc_rbf.predict(x_test)\n",
    "accuracy_score(y_test,y_pred)"
   ]
  },
  {
   "cell_type": "code",
   "execution_count": 27,
   "id": "6042c48b-42bf-4b59-a86a-84a1e008dc02",
   "metadata": {},
   "outputs": [
    {
     "data": {
      "text/plain": [
       "0.5901639344262295"
      ]
     },
     "execution_count": 27,
     "metadata": {},
     "output_type": "execute_result"
    }
   ],
   "source": [
    "svc_sig = SVC(C=1,kernel='sigmoid',gamma=0.1)\n",
    "svc_sig.fit(x_train,y_train)\n",
    "y_pred = svc_sig.predict(x_test)\n",
    "accuracy_score(y_test,y_pred)"
   ]
  },
  {
   "cell_type": "code",
   "execution_count": 28,
   "id": "30503571-a6f6-4ddc-8269-5fdbe7f9cdff",
   "metadata": {},
   "outputs": [
    {
     "data": {
      "text/plain": [
       "<Axes: xlabel='class'>"
      ]
     },
     "execution_count": 28,
     "metadata": {},
     "output_type": "execute_result"
    },
    {
     "data": {
      "image/png": "[encoded data removed]",
      "text/plain": [
       "<Figure size 640x480 with 1 Axes>"
      ]
     },
     "metadata": {},
     "output_type": "display_data"
    }
   ],
   "source": [
    "sns.regplot(data = df_encoded, x=y_test, y=y_pred)"
   ]
  },
  {
   "cell_type": "markdown",
   "id": "c1aabd97-13aa-459b-bb4a-ce32ab89a859",
   "metadata": {},
   "source": [
    "### \n",
    "The real-world classification of SVM due to several reasons:\n",
    "1. High accuracy\n",
    "2. Versatile with kernel functions\n",
    "3. Handiling imbalanced data\n",
    "4. Robustness\n",
    "5. Effectie in handling various types of data complexities and distributions."
   ]
  }
 ],
 "metadata": {
  "kernelspec": {
   "display_name": "Python 3 (ipykernel)",
   "language": "python",
   "name": "python3"
  },
  "language_info": {
   "codemirror_mode": {
    "name": "ipython",
    "version": 3
   },
   "file_extension": ".py",
   "mimetype": "text/x-python",
   "name": "python",
   "nbconvert_exporter": "python",
   "pygments_lexer": "ipython3",
   "version": "3.11.7"
  }
 },
 "nbformat": 4,
 "nbformat_minor": 5
}
